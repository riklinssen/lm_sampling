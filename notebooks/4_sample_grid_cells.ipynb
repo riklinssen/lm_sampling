{
 "cells": [
  {
   "cell_type": "code",
   "execution_count": null,
   "metadata": {},
   "outputs": [],
   "source": [
    "import rasterio\n",
    "from rasterio.plot import show\n",
    "from rasterio.mask import mask\n",
    "import time\n",
    "import numpy as np\n",
    "import geopandas as gpd\n",
    "import pandas as pd\n",
    "from rasterstats import zonal_stats\n",
    "import pandas as pd\n",
    "import numpy as np\n",
    "import folium\n",
    "import streamlit as st\n",
    "import geopandas as gpd\n",
    "from pathlib import Path\n",
    "from shapely.geometry import Point\n",
    "from colour import Color\n",
    "from shapely.geometry import box\n",
    "from shapely.strtree import STRtree\n",
    "import contextily as ctx\n",
    "\n",
    "import matplotlib.pyplot as plt"
   ]
  }
 ],
 "metadata": {
  "language_info": {
   "name": "python"
  }
 },
 "nbformat": 4,
 "nbformat_minor": 2
}
